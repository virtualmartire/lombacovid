{
 "cells": [
  {
   "cell_type": "code",
   "execution_count": 1,
   "metadata": {},
   "outputs": [
    {
     "name": "stderr",
     "output_type": "stream",
     "text": [
      "/Users/stefanomartire/miniforge3/envs/lombacovid/lib/python3.8/site-packages/scipy/__init__.py:146: UserWarning: A NumPy version >=1.16.5 and <1.23.0 is required for this version of SciPy (detected version 1.23.1\n",
      "  warnings.warn(f\"A NumPy version >={np_minversion} and <{np_maxversion}\"\n"
     ]
    }
   ],
   "source": [
    "import datetime\n",
    "import pandas as pd\n",
    "import numpy as np\n",
    "import torch\n",
    "import matplotlib.pyplot as plt\n",
    "\n",
    "from sklearn.preprocessing import MinMaxScaler"
   ]
  },
  {
   "cell_type": "markdown",
   "metadata": {},
   "source": [
    "# Construct the dataset"
   ]
  },
  {
   "cell_type": "code",
   "execution_count": 2,
   "metadata": {},
   "outputs": [],
   "source": [
    "def downloadData():\n",
    "\n",
    "    first_date = (datetime.date(2020, 2, 24))\n",
    "    last_date = (datetime.date(2022, 8, 4))\n",
    "\n",
    "    for delta in range(1, (last_date - first_date).days):\n",
    "\n",
    "        today = first_date + datetime.timedelta(days=delta)\n",
    "        today_url = 'https://raw.githubusercontent.com/pcm-dpc/COVID-19/master/dati-regioni/dpc-covid19-ita-regioni-'+today.strftime(\"%Y%m%d\")+'.csv'\n",
    "        present = pd.read_csv(today_url)\n",
    "        present.to_csv('date_datasets/'+today.strftime(\"%Y%m%d\")+'.csv', index=False)"
   ]
  },
  {
   "cell_type": "code",
   "execution_count": 3,
   "metadata": {},
   "outputs": [],
   "source": [
    "#downloadData()"
   ]
  },
  {
   "cell_type": "code",
   "execution_count": 4,
   "metadata": {},
   "outputs": [],
   "source": [
    "regioni = [\"Abruzzo\", \"Basilicata\", \"Calabria\", \"Campania\", \"Emilia-Romagna\", \"Friuli-Venezia Giulia\", \"Lazio\", \"Liguria\", \"Lombardia\", \"Marche\", \"Molise\", \"P.A. Bolzano\", \"P.A. Trento\", \"Piemonte\", \"Puglia\", \"Sardegna\", \"Sicilia\", \"Toscana\", \"Umbria\", \"Valle d'Aosta\", \"Veneto\"]\n",
    "regioni_no_friuli = [\"Abruzzo\", \"Basilicata\", \"Calabria\", \"Campania\", \"Emilia-Romagna\", \"Lazio\", \"Liguria\", \"Lombardia\", \"Marche\", \"Molise\", \"P.A. Bolzano\", \"P.A. Trento\", \"Piemonte\", \"Puglia\", \"Sardegna\", \"Sicilia\", \"Toscana\", \"Umbria\", \"Valle d'Aosta\", \"Veneto\"]\n",
    "\n",
    "first_date = (datetime.date(2020, 9, 1))   # perché all'inizio i dati erano sballati\n",
    "last_date = (datetime.date(2022, 8, 4))"
   ]
  },
  {
   "cell_type": "code",
   "execution_count": 5,
   "metadata": {},
   "outputs": [],
   "source": [
    "def dateToRegion(regioni, first_date, last_date):\n",
    "\n",
    "    for regione in regioni_no_friuli:\n",
    "\n",
    "        regione_csv = pd.DataFrame(data={\"perc_story\": [], \"ospedalizzati_story\": []})\n",
    "\n",
    "        for delta in range(1, (last_date - first_date).days):\n",
    "            # open the files\n",
    "            today = first_date + datetime.timedelta(days=delta)\n",
    "            yesterday = today - datetime.timedelta(days=1)\n",
    "            present = pd.read_csv('date_datasets/'+today.strftime(\"%Y%m%d\")+'.csv')\n",
    "            past = pd.read_csv('date_datasets/'+yesterday.strftime(\"%Y%m%d\")+'.csv')\n",
    "            regione_present = present[ present['denominazione_regione'] == regione ]\n",
    "            regione_past = past[ past['denominazione_regione'] == regione ]\n",
    "            # compute the perc\n",
    "            try:\n",
    "                tot_tamponi_present = regione_present['tamponi'].values[0]\n",
    "            except:\n",
    "                print(regione)\n",
    "                print(today)\n",
    "                print(regione_present['tamponi'])\n",
    "            tot_tamponi_past = regione_past['tamponi'].values[0]\n",
    "            tamponi_oggi = tot_tamponi_present - tot_tamponi_past\n",
    "            nuovi_positivi = regione_present['nuovi_positivi'].values[0]\n",
    "            percentuale = np.around(nuovi_positivi / tamponi_oggi * 100, 2)     # <---\n",
    "            # compute the hospitalized\n",
    "            ospedalizzati_attuali = regione_present['totale_ospedalizzati'].values[0]       # <---\n",
    "            # append the row\n",
    "            nuova_riga = pd.DataFrame([[percentuale, ospedalizzati_attuali]],\n",
    "                                        columns=[\"perc_story\", \"ospedalizzati_story\"])\n",
    "            regione_csv = pd.concat([regione_csv, nuova_riga])\n",
    "        \n",
    "        regione_csv.to_csv(f\"region_datasets/{regione}.csv\", index=False)"
   ]
  },
  {
   "cell_type": "code",
   "execution_count": 6,
   "metadata": {},
   "outputs": [],
   "source": [
    "#dateToRegion(regioni_no_friuli, first_date, last_date)"
   ]
  },
  {
   "cell_type": "code",
   "execution_count": 7,
   "metadata": {},
   "outputs": [],
   "source": [
    "# Plot every columns\n",
    "\n",
    "# for regione in regioni_no_friuli:\n",
    "#     df = pd.read_csv(f\"region_datasets/{regione}.csv\")\n",
    "#     df.plot(y=['perc_story'], kind=\"line\", figsize=(10, 10), color='red', title=regione)\n",
    "#     df.plot(y=['ospedalizzati_story'], kind=\"line\", figsize=(10, 10), color='orange', title=regione)"
   ]
  },
  {
   "cell_type": "markdown",
   "metadata": {},
   "source": [
    "# Preprocess the datasets"
   ]
  },
  {
   "cell_type": "markdown",
   "metadata": {},
   "source": [
    "## Merge all the datasets and window them"
   ]
  },
  {
   "cell_type": "code",
   "execution_count": 8,
   "metadata": {},
   "outputs": [],
   "source": [
    "def preprocessDatasets(regions_array, window_length=30, perc_shift=14):\n",
    "    \n",
    "    global_dataset = np.empty([0, window_length, 2])\n",
    "    scaler = MinMaxScaler(feature_range=(0, 1))\n",
    "\n",
    "    for regione in regions_array:\n",
    "\n",
    "        dataset = pd.read_csv(f\"region_datasets/{regione}.csv\").replace([np.inf, -np.inf], np.nan).interpolate()\n",
    "\n",
    "        perc = dataset['perc_story']\n",
    "        perc = perc.rolling(window=7, min_periods=1).mean()\n",
    "        perc = perc.shift(perc_shift).dropna()\n",
    "        perc = perc.values\n",
    "\n",
    "        ospedalizzati = dataset['ospedalizzati_story'][perc_shift:].values\n",
    "\n",
    "        dataset = np.column_stack((ospedalizzati, perc))\n",
    "        dataset = scaler.fit_transform(dataset)\n",
    "\n",
    "        indexer = np.arange(window_length)[None, :] + np.arange(dataset.shape[0]-window_length+1)[:, None]\n",
    "        dataset = dataset[indexer]\n",
    "\n",
    "        global_dataset = np.vstack((global_dataset, dataset))\n",
    "\n",
    "    return global_dataset"
   ]
  },
  {
   "cell_type": "code",
   "execution_count": 9,
   "metadata": {},
   "outputs": [],
   "source": [
    "regioni_no_friuli_no_lomba = [\"Abruzzo\", \"Basilicata\", \"Calabria\", \"Campania\", \"Emilia-Romagna\", \"Lazio\", \"Liguria\", \"Marche\", \"Molise\", \"P.A. Bolzano\", \"P.A. Trento\", \"Piemonte\", \"Puglia\", \"Sardegna\", \"Sicilia\", \"Toscana\", \"Umbria\", \"Valle d'Aosta\", \"Veneto\"]"
   ]
  },
  {
   "cell_type": "code",
   "execution_count": 10,
   "metadata": {},
   "outputs": [],
   "source": [
    "training_set = preprocessDatasets(regioni_no_friuli_no_lomba)\n",
    "\n",
    "train_input = torch.from_numpy(training_set[:, :-1, :]).type(torch.FloatTensor)\n",
    "train_target = torch.from_numpy(training_set[:, 1:, 0]).type(torch.FloatTensor)"
   ]
  },
  {
   "cell_type": "code",
   "execution_count": 11,
   "metadata": {},
   "outputs": [],
   "source": [
    "test_set = preprocessDatasets([\"Lombardia\"])\n",
    "\n",
    "test_input = torch.from_numpy(test_set[:, :-1, :]).type(torch.FloatTensor)\n",
    "test_target = torch.from_numpy(test_set[:, 1:, 0]).type(torch.FloatTensor)"
   ]
  },
  {
   "cell_type": "markdown",
   "metadata": {},
   "source": [
    "## The network"
   ]
  },
  {
   "cell_type": "code",
   "execution_count": 12,
   "metadata": {},
   "outputs": [],
   "source": [
    "class LSTM(torch.nn.Module):\n",
    "    def __init__(self, hidden_neurons=[64, 64]):\n",
    "        super(LSTM, self).__init__()\n",
    "        self.hidden_neurons = hidden_neurons\n",
    "        # lstm1, lstm2, linear are all layers in the network\n",
    "        self.lstm1 = torch.nn.LSTMCell(2, self.hidden_neurons[0])\n",
    "        self.lstm2 = torch.nn.LSTMCell(self.hidden_neurons[0], self.hidden_neurons[1])\n",
    "        self.linear = torch.nn.Linear(self.hidden_neurons[1], 1)\n",
    "        \n",
    "    def forward(self, y, future_preds=0):\n",
    "\n",
    "        outputs, num_samples = [], y.size(0)\n",
    "        h_t = torch.zeros(num_samples, self.hidden_neurons[0], dtype=torch.float32)\n",
    "        c_t = torch.zeros(num_samples, self.hidden_neurons[0], dtype=torch.float32)\n",
    "        h_t2 = torch.zeros(num_samples, self.hidden_neurons[1], dtype=torch.float32)\n",
    "        c_t2 = torch.zeros(num_samples, self.hidden_neurons[1], dtype=torch.float32)\n",
    "\n",
    "        for i in range(y.size()[1]):\n",
    "            h_t, c_t = self.lstm1(y[:, i, :], (h_t, c_t))\n",
    "            h_t2, c_t2 = self.lstm2(h_t, (h_t2, c_t2))\n",
    "            output = self.linear(h_t2)\n",
    "            outputs.append(output)\n",
    "\n",
    "        for i in range(future_preds):\n",
    "            # this only generates future predictions if we pass in future_preds>0\n",
    "            # mirrors the code above, using last output/prediction as input\n",
    "            h_t, c_t = self.lstm1(output, (h_t, c_t))\n",
    "            h_t2, c_t2 = self.lstm2(h_t, (h_t2, c_t2))\n",
    "            output = self.linear(h_t2)\n",
    "            outputs.append(output)\n",
    "        # transform list to tensor\n",
    "        outputs = torch.cat(outputs, dim=1)\n",
    "        return outputs"
   ]
  },
  {
   "cell_type": "markdown",
   "metadata": {},
   "source": [
    "## The fit"
   ]
  },
  {
   "cell_type": "code",
   "execution_count": 13,
   "metadata": {},
   "outputs": [],
   "source": [
    "model = LSTM(hidden_neurons=[32, 32])\n",
    "criterion = torch.nn.MSELoss()\n",
    "optimiser = torch.optim.LBFGS(model.parameters(), lr=1e-2)"
   ]
  },
  {
   "cell_type": "code",
   "execution_count": 14,
   "metadata": {},
   "outputs": [],
   "source": [
    "def training_loop(n_epochs, model, optimiser, loss_fn, train_input, train_target, test_input, test_target):\n",
    "\n",
    "    def closure():\n",
    "        optimiser.zero_grad()\n",
    "        out = model(train_input)\n",
    "        loss = loss_fn(out, train_target)\n",
    "        loss.backward()\n",
    "        return loss\n",
    "\n",
    "    for epoch in range(n_epochs):\n",
    "\n",
    "        # Train\n",
    "        optimiser.step(closure)\n",
    "\n",
    "        # Validate\n",
    "        with torch.no_grad():\n",
    "            pred = model(test_input)\n",
    "            loss_val = loss_fn(pred, test_target)\n",
    "\n",
    "        # print the loss\n",
    "        out = model(train_input)\n",
    "        loss_train = loss_fn(out, train_target)\n",
    "        print(f\"Epoch {epoch+1}, Training loss {loss_train.item():.4f}, Validation loss {loss_val.item():.4f}\")"
   ]
  },
  {
   "cell_type": "code",
   "execution_count": 15,
   "metadata": {},
   "outputs": [
    {
     "data": {
      "text/plain": [
       "[<matplotlib.lines.Line2D at 0x1767b94f0>]"
      ]
     },
     "execution_count": 15,
     "metadata": {},
     "output_type": "execute_result"
    },
    {
     "data": {
      "image/png": "[encoded data removed]",
      "text/plain": [
       "<Figure size 432x288 with 1 Axes>"
      ]
     },
     "metadata": {
      "needs_background": "light"
     },
     "output_type": "display_data"
    }
   ],
   "source": [
    "plt.plot(test_target[0], label=\"target\")\n",
    "plt.plot(model(test_input[:1]).detach()[0], label=\"prediction\")\n",
    "plt.legend()"
   ]
  },
  {
   "cell_type": "code",
   "execution_count": 18,
   "metadata": {},
   "outputs": [
    {
     "name": "stdout",
     "output_type": "stream",
     "text": [
      "Epoch 1, Training loss 0.0002, Validation loss 0.0001\n"
     ]
    },
    {
     "data": {
      "text/plain": [
       "<matplotlib.legend.Legend at 0x17813b9a0>"
      ]
     },
     "execution_count": 18,
     "metadata": {},
     "output_type": "execute_result"
    },
    {
     "data": {
      "image/png": "[encoded data removed]",
      "text/plain": [
       "<Figure size 432x288 with 1 Axes>"
      ]
     },
     "metadata": {
      "needs_background": "light"
     },
     "output_type": "display_data"
    }
   ],
   "source": [
    "training_loop(1, model, optimiser, criterion, train_input, train_target, test_input, test_target)\n",
    "\n",
    "plt.plot(test_target[0], label=\"target\")\n",
    "plt.plot(model(test_input[:1]).detach()[0], label=\"prediction\")\n",
    "plt.legend()"
   ]
  }
 ],
 "metadata": {
  "kernelspec": {
   "display_name": "Python 3.8.13 ('lombacovid')",
   "language": "python",
   "name": "python3"
  },
  "language_info": {
   "codemirror_mode": {
    "name": "ipython",
    "version": 3
   },
   "file_extension": ".py",
   "mimetype": "text/x-python",
   "name": "python",
   "nbconvert_exporter": "python",
   "pygments_lexer": "ipython3",
   "version": "3.8.13"
  },
  "orig_nbformat": 4,
  "vscode": {
   "interpreter": {
    "hash": "206f32289a1c6ae08017adf82f74883987f76632b2f8a15c374d45f2d79d42ef"
   }
  }
 },
 "nbformat": 4,
 "nbformat_minor": 2
}
